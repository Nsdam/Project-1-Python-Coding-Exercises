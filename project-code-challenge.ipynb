{
 "cells": [
  {
   "cell_type": "markdown",
   "metadata": {},
   "source": [
    "<img src=\"http://imgur.com/1ZcRyrc.png\" style=\"float: left; margin: 20px; height: 55px\">\n",
    "\n",
    "# Project 1: Python Coding Exercises\n",
    "\n",
    "_Authors: Joseph Nelson (DC) _\n",
    "\n",
    "---"
   ]
  },
  {
   "cell_type": "markdown",
   "metadata": {},
   "source": [
    "The following code challenges are drawn from common exercises used in technical interviews.\n",
    "\n",
    "Please note that there may be several ways to approach each challenge. If you get stuck, try mapping out your approach in pseudocode first. Finally, while solutions to problems like these may be found online, remember that if you copy/paste code that you can't explain, you'll be missing out on the point of the project. The only way to truly learn a new skill is through practice, trial, and error - we can only help you improve by understanding where you are having trouble."
   ]
  },
  {
   "cell_type": "markdown",
   "metadata": {},
   "source": [
    "### Challenge 1: Largest Palindrome\n",
    "A palindromic number reads the same both ways. For example, 1234321 is a palindrome. The largest palindrome made from the product of two two-digit numbers is 9009 = 91 × 99. Find the largest palindrome made from the product of two three-digit numbers. Afterward, write a brief explanation walking through your code's logic in markdown."
   ]
  },
  {
   "cell_type": "code",
   "execution_count": 1,
   "metadata": {},
   "outputs": [
    {
     "name": "stdout",
     "output_type": "stream",
     "text": [
      "906609\n"
     ]
    }
   ],
   "source": [
    "n = 0\n",
    "for a in range(999,100, -1):\n",
    "    for b in range(a, 100, -1):\n",
    "        x = a*b\n",
    "        if x > n:\n",
    "            s = str(a*b)\n",
    "            if s == s[::-1]:\n",
    "                n = a*b\n",
    "print(n)"
   ]
  },
  {
   "cell_type": "code",
   "execution_count": 2,
   "metadata": {},
   "outputs": [
    {
     "data": {
      "text/plain": [
       "906609"
      ]
     },
     "execution_count": 2,
     "metadata": {},
     "output_type": "execute_result"
    }
   ],
   "source": [
    "n"
   ]
  },
  {
   "cell_type": "markdown",
   "metadata": {},
   "source": [
    "To find the largest pallindrom for the product of two three-digit number, first, assign n as variable and set the value as zero. To find largest pallindrom, using for loop with the range from 999. Basically a is iterating from 999 to 100, decreasing by 1 on each loop. b is iterating from a (from upper loop) until 100. This loop will be running for each value of a from upper loop. converting the product from int to str so that we can reverse the number. Below is possible for string not for int, so it is converted to string. s the reverse string of check. We check here if reversed string and non-reversed string are same (pallindrome if same). Thus, the output will be 906609.\n",
    "\n"
   ]
  },
  {
   "cell_type": "markdown",
   "metadata": {},
   "source": [
    "\n",
    "### Challenge 2: Summation of Primes\n",
    "The sum of the primes below 10 is 2 + 3 + 5 + 7 = 17. Find the sum of all the primes below 2,000. Afterward, write a brief explanation walking through your code's logic in markdown."
   ]
  },
  {
   "cell_type": "code",
   "execution_count": 5,
   "metadata": {},
   "outputs": [
    {
     "name": "stdout",
     "output_type": "stream",
     "text": [
      "277050\n"
     ]
    }
   ],
   "source": [
    "sum_ans=17\n",
    "for i in range(11,2000):\n",
    "    for j in range(2,int(i**0.5+1)):\n",
    "        if i%j==0:\n",
    "            break\n",
    "    else:\n",
    "        sum_ans+=i\n",
    "print(sum_ans)"
   ]
  },
  {
   "cell_type": "markdown",
   "metadata": {},
   "source": [
    "To find the sum of all primes below 2,000 , name the sum_ans as the variable and set the sum of the prime number value to 17. using for loop from the range value from 11 to 2000 and j in range from value 2 to less than i**0.5 and add value 1. So to check if the value of i is a prime number, we will use modulus operator for i divisable with value of j, if is equal to zero, then it will break the code. else, if the value have remainder, it will print the value of sum_ans that equal to the range of prime number that has modulus, and sums all the prime number value. Thus, the output is 277050. \n",
    "\n"
   ]
  },
  {
   "cell_type": "markdown",
   "metadata": {},
   "source": [
    "### Challenge 3: Multiples of 3 and 5\n",
    "If we list all of the natural numbers below 10 that are multiples of 3 or 5, we get 3, 5, 6, and 9. The sum of these multiples is 23. Find the sum of all the multiples of 3 and 5 below 1,000. Afterward, write a brief explanation walking through your code's logic in markdown."
   ]
  },
  {
   "cell_type": "code",
   "execution_count": 4,
   "metadata": {},
   "outputs": [
    {
     "name": "stdout",
     "output_type": "stream",
     "text": [
      "233168\n"
     ]
    }
   ],
   "source": [
    "def f(x): return x%3 == 0 or x%5 == 0\n",
    "print(sum(filter(f, range(1, 1000))))"
   ]
  },
  {
   "cell_type": "markdown",
   "metadata": {},
   "source": [
    "Using the formula 1 + 2 + 3 + ... + n = n*(n+1)/2 instead of a code loop.\n",
    "\n",
    "Sum of all numbers <1000 divisible by 3:\n",
    "3 + 6 + 9 + ... + 999 = 3 * (1 + 2 + 3 + ... + 333) = 3 * 333*334/2 = 166833\n",
    "\n",
    "Sum of all numbers <1000 divisible by 5:\n",
    "5 + 10 + 15 + ... + 995 = 5 * (1 + 2 + 3 + ... + 199) = 5 * 199*200/2 = 99500\n",
    "\n",
    "Adding these up, those numbers divisible by 3*5 = 15 are counted double. Therefore we need to subtract these once:\n",
    "\n",
    "Sum of all numbers <1000 divisible by 15:\n",
    "15 + 30 + 45 + ... + 990 = 15 * (1 + 2 + 3 + ... + 66) = 15 * 66*67/2 = 33165\n",
    "\n",
    "Thus we get the result 166833 + 99500 - 33165 = 233168."
   ]
  },
  {
   "cell_type": "markdown",
   "metadata": {},
   "source": [
    "### Challenge 4: String Compressor\n",
    "Implement a method to perform basic string compression using the counts of repeated characters. (This is called run-length encoding.) For example, the string \"aabcccccaaa\" would become a2b1c5a3. If the “compressed” string would not become smaller than the original string, your method should return the original string. You can assume the string has only uppercase and lowercase letters (a–z). Specify whether your solution is case sensitive or case insensitive and what you would need to change to make it the other. Afterward, write a brief explanation walking through your code's logic in markdown."
   ]
  },
  {
   "cell_type": "code",
   "execution_count": 13,
   "metadata": {},
   "outputs": [
    {
     "name": "stdout",
     "output_type": "stream",
     "text": [
      "Enter the string:syakirah\n",
      " s1y1a2k1i1r1h1\n"
     ]
    }
   ],
   "source": [
    "from collections import Counter\n",
    "\n",
    "\n",
    "def compress(string):\n",
    "    temp = Counter()\n",
    "    result = \" \"\n",
    "    for x in string:\n",
    "        temp[x] += 1\n",
    "\n",
    "    for key, value in temp.items():\n",
    "        result += str(key) + str(value)\n",
    "    return result\n",
    "\n",
    "\n",
    "if __name__== '__main__':\n",
    "    s = input(\"Enter the string:\")\n",
    "    print(compress(s))"
   ]
  },
  {
   "cell_type": "markdown",
   "metadata": {},
   "source": [
    "To get the string compress, import counter library and assign function call compress in string parameter. Assign temp variable and make counter as value and assign result and empty value to run as empty string. Using for loop, check the value of x in string and add 1 everytime there is same string. to combine the value and string, use for loop again to run the string and value of the string and return the result. To the test the code, use wrap it into a function and call it from under an if __name__ == '__main__' guard and it will compress the string and print the result. "
   ]
  },
  {
   "cell_type": "markdown",
   "metadata": {},
   "source": [
    "### *BONUS* Challenge: FizzBuzz\n",
    "Write a program that prints all of the numbers from 1 to 100. For multiples of 3, instead of the number, print \"Fizz;\" for multiples of 5, print \"Buzz.\" For numbers that are multiples of both 3 and 5, print \"FizzBuzz.\" Afterward, write a brief explanation walking through your code's logic in markdown."
   ]
  },
  {
   "cell_type": "code",
   "execution_count": 4,
   "metadata": {},
   "outputs": [
    {
     "name": "stdout",
     "output_type": "stream",
     "text": [
      "Fizz\n",
      "Buzz\n",
      "Fizz\n",
      "Fizz\n",
      "Buzz\n",
      "Fizz\n",
      "FizzBuzz\n",
      "Fizz\n",
      "Buzz\n",
      "Fizz\n",
      "Fizz\n",
      "Buzz\n",
      "Fizz\n",
      "FizzBuzz\n",
      "Fizz\n",
      "Buzz\n",
      "Fizz\n",
      "Fizz\n",
      "Buzz\n",
      "Fizz\n",
      "FizzBuzz\n",
      "Fizz\n",
      "Buzz\n",
      "Fizz\n",
      "Fizz\n",
      "Buzz\n",
      "Fizz\n",
      "FizzBuzz\n",
      "Fizz\n",
      "Buzz\n",
      "Fizz\n",
      "Fizz\n",
      "Buzz\n",
      "Fizz\n",
      "FizzBuzz\n",
      "Fizz\n",
      "Buzz\n",
      "Fizz\n",
      "Fizz\n",
      "Buzz\n",
      "Fizz\n",
      "FizzBuzz\n",
      "Fizz\n",
      "Buzz\n",
      "Fizz\n",
      "Fizz\n",
      "99\n"
     ]
    }
   ],
   "source": [
    "\n",
    "# Loop for 100 times i.e. range\n",
    "for fizzbuzz in range(1,100):\n",
    "\n",
    "# Number divisible by 15,(divisible\n",
    "# by both 3 & 5), print 'FizzBuzz'\n",
    "# in place of the number\n",
    "    if fizzbuzz % 15 == 0:\n",
    "        print(\"FizzBuzz\")\n",
    "        continue\n",
    "    \n",
    "# Number divisible by 3, print 'Fizz'\n",
    "# in place of the number\n",
    "    elif fizzbuzz % 3 == 0:\n",
    "        print(\"Fizz\")\n",
    "        continue\n",
    "\n",
    "# Number divisible by 5,\n",
    "# print 'Buzz' in\n",
    "# place of the number\n",
    "    elif fizzbuzz % 5 == 0:\n",
    "        print(\"Buzz\")\n",
    "        continue\n",
    "\n",
    "# Print numbers\n",
    "print(fizzbuzz)\n"
   ]
  },
  {
   "cell_type": "markdown",
   "metadata": {},
   "source": [
    "Firstly, we need to use for loop to make it loop for 100 times. Next, to get the result of fizzbuzz, for both number 3 and 5, that is divisable by 15 equal to zero it will print FizzBuzz, if the result is false, it will turn to the condition 2, for the number 3 that can divisable by 3 print Fizz. If the result for condition 2 is false, it will run to the next condition which if is the number 15 can be divisible by 5 and equal to zero, it will print Buzz. Otherwise, if all condition is false until end of the loop, it will print the last number which is 99. "
   ]
  }
 ],
 "metadata": {
  "anaconda-cloud": {},
  "kernelspec": {
   "display_name": "Python 3",
   "language": "python",
   "name": "python3"
  },
  "language_info": {
   "codemirror_mode": {
    "name": "ipython",
    "version": 3
   },
   "file_extension": ".py",
   "mimetype": "text/x-python",
   "name": "python",
   "nbconvert_exporter": "python",
   "pygments_lexer": "ipython3",
   "version": "3.8.8"
  }
 },
 "nbformat": 4,
 "nbformat_minor": 2
}
